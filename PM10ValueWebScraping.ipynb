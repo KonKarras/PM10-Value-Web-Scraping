{
 "cells": [
  {
   "cell_type": "code",
   "execution_count": 1,
   "id": "92c6db62",
   "metadata": {},
   "outputs": [],
   "source": [
    "# Import necessary modules and libraries\n",
    "from selenium import webdriver\n",
    "from selenium.webdriver.chrome.options import Options\n",
    "from selenium.webdriver.chrome.service import Service\n",
    "from selenium.webdriver.common.by import By\n",
    "import re"
   ]
  },
  {
   "cell_type": "code",
   "execution_count": 2,
   "id": "6a117294",
   "metadata": {},
   "outputs": [
    {
     "name": "stderr",
     "output_type": "stream",
     "text": [
      "C:\\Users\\KONSTA~1\\AppData\\Local\\Temp/ipykernel_15704/1517109283.py:3: DeprecationWarning: headless property is deprecated, instead use add_argument('--headless') or add_argument('--headless=new')\n",
      "  options.headless = True\n"
     ]
    }
   ],
   "source": [
    "# Set up Chrome options to run in headless mode to avoid opening a browser window\n",
    "options = Options()\n",
    "options.headless = True\n",
    "\n",
    "# Set up the ChromeDriver service to run the Chrome browser\n",
    "service = Service(r'C:\\Users\\Konstantinos\\Desktop\\chromedriver_win32')\n",
    "# Initialize the Chrome browser with the specified service and options\n",
    "driver = webdriver.Chrome(service=service, options=options)\n",
    "\n",
    "# Navigate to the specified webpage\n",
    "url = 'https://www.infoaria.regione.lombardia.it/infoaria/#/stato-attivazione'\n",
    "driver.get(url)"
   ]
  },
  {
   "cell_type": "code",
   "execution_count": 3,
   "id": "7b51db9d",
   "metadata": {},
   "outputs": [],
   "source": [
    "# Find all elements with the tag name 'strong'\n",
    "elements = driver.find_elements(By.TAG_NAME, 'strong')\n",
    "\n",
    "# Select the first element in the list of 'strong' elements\n",
    "element = elements[0]"
   ]
  },
  {
   "cell_type": "code",
   "execution_count": 4,
   "id": "88f5b833",
   "metadata": {},
   "outputs": [
    {
     "name": "stdout",
     "output_type": "stream",
     "text": [
      "The current PM10 level for the province of Bergamo is - µg/m³.\n"
     ]
    }
   ],
   "source": [
    "# Get the inner HTML of the selected 'strong' element\n",
    "extracted_pm10_value = element.get_attribute('innerHTML')\n",
    "\n",
    "# Define a regular expression pattern to match the number in the inner HTML\n",
    "pattern = r'\\d+\\.\\d+'\n",
    "\n",
    "# Use the findall() method from the Re module to extract the number from the string\n",
    "matches = re.findall(pattern, extracted_pm10_value)\n",
    "\n",
    "# Check if the regular expression pattern found a match in the extracted PM10 value string\n",
    "if matches:\n",
    "    \n",
    "    # Convert the extracted value to a float and assign it to the final_pm10_value variable\n",
    "    final_pm10_value = float(matches[0])\n",
    "    \n",
    "    # Print the current PM10 level for the province of Bergamo to the console\n",
    "    print(f\"The current PM10 level for the province of Bergamo is {final_pm10_value} µg/m³.\")\n",
    "    \n",
    "# If no matches were found in the extracted PM10 value string, print a dash instead\n",
    "else:\n",
    "    print(\"The current PM10 level for the province of Bergamo is - µg/m³.\")"
   ]
  }
 ],
 "metadata": {
  "kernelspec": {
   "display_name": "Python 3 (ipykernel)",
   "language": "python",
   "name": "python3"
  },
  "language_info": {
   "codemirror_mode": {
    "name": "ipython",
    "version": 3
   },
   "file_extension": ".py",
   "mimetype": "text/x-python",
   "name": "python",
   "nbconvert_exporter": "python",
   "pygments_lexer": "ipython3",
   "version": "3.9.7"
  }
 },
 "nbformat": 4,
 "nbformat_minor": 5
}
